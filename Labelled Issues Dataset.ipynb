{
 "cells": [
  {
   "cell_type": "markdown",
   "id": "959cbb81-68bf-4f68-8469-bd47cdd47927",
   "metadata": {},
   "source": [
    "# Labelled Issues Dataset\n",
    "The plan is to mine all the closed issues, look up their ids in tests and produce a CSV containing the JSON of an issue as a first column and its label (pos, neg, run) as the second one."
   ]
  },
  {
   "cell_type": "markdown",
   "id": "116330d4-7a86-421e-85cb-9bcf0a5a46de",
   "metadata": {},
   "source": [
    "## Mine closed issues from GitHub"
   ]
  },
  {
   "cell_type": "code",
   "execution_count": 1,
   "id": "b9010fd0-0922-434f-a251-3f7aea066937",
   "metadata": {},
   "outputs": [],
   "source": [
    "import requests, json, csv\n",
    "from util import issues"
   ]
  },
  {
   "cell_type": "code",
   "execution_count": 13,
   "id": "705fd85a-c021-4373-9910-f9d3e17233b1",
   "metadata": {
    "collapsed": true,
    "jupyter": {
     "outputs_hidden": true
    },
    "tags": []
   },
   "outputs": [
    {
     "name": "stdout",
     "output_type": "stream",
     "text": [
      "[0]: got 100 issues, in total 100\n",
      "[1]: got 100 issues, in total 200\n",
      "[2]: got 100 issues, in total 300\n",
      "[3]: got 100 issues, in total 400\n",
      "[4]: got 100 issues, in total 500\n",
      "[5]: got 100 issues, in total 600\n",
      "[6]: got 100 issues, in total 700\n",
      "[7]: got 100 issues, in total 800\n",
      "[8]: got 100 issues, in total 900\n",
      "[9]: got 100 issues, in total 1000\n",
      "[10]: got 100 issues, in total 1100\n",
      "[11]: got 100 issues, in total 1200\n",
      "[12]: got 100 issues, in total 1300\n",
      "[13]: got 100 issues, in total 1400\n",
      "[14]: got 100 issues, in total 1500\n",
      "[15]: got 100 issues, in total 1600\n",
      "[16]: got 100 issues, in total 1700\n",
      "[17]: got 100 issues, in total 1800\n",
      "[18]: got 100 issues, in total 1900\n",
      "[19]: got 100 issues, in total 2000\n",
      "[20]: got 100 issues, in total 2100\n",
      "[21]: got 100 issues, in total 2200\n",
      "[22]: got 100 issues, in total 2300\n",
      "[23]: got 100 issues, in total 2400\n",
      "[24]: got 100 issues, in total 2500\n",
      "[25]: got 100 issues, in total 2600\n",
      "[26]: got 100 issues, in total 2700\n",
      "[27]: got 100 issues, in total 2800\n",
      "[28]: got 100 issues, in total 2900\n",
      "[29]: got 100 issues, in total 3000\n",
      "[30]: got 100 issues, in total 3100\n",
      "[31]: got 100 issues, in total 3200\n",
      "[32]: got 100 issues, in total 3300\n",
      "[33]: got 100 issues, in total 3400\n",
      "[34]: got 100 issues, in total 3500\n",
      "[35]: got 100 issues, in total 3600\n",
      "[36]: got 100 issues, in total 3700\n",
      "[37]: got 100 issues, in total 3800\n",
      "[38]: got 100 issues, in total 3900\n",
      "[39]: got 100 issues, in total 4000\n",
      "[40]: got 100 issues, in total 4100\n",
      "[41]: got 100 issues, in total 4200\n",
      "[42]: got 100 issues, in total 4300\n",
      "[43]: got 100 issues, in total 4400\n",
      "[44]: got 100 issues, in total 4500\n",
      "[45]: got 100 issues, in total 4600\n",
      "[46]: got 100 issues, in total 4700\n",
      "[47]: got 100 issues, in total 4800\n",
      "[48]: got 100 issues, in total 4900\n",
      "[49]: got 100 issues, in total 5000\n",
      "[50]: got 100 issues, in total 5100\n",
      "[51]: got 100 issues, in total 5200\n",
      "[52]: got 100 issues, in total 5300\n",
      "[53]: got 100 issues, in total 5400\n",
      "[54]: got 100 issues, in total 5500\n",
      "[55]: got 100 issues, in total 5600\n",
      "[56]: got 100 issues, in total 5700\n",
      "[57]: got 100 issues, in total 5800\n",
      "[58]: got 100 issues, in total 5900\n",
      "[59]: got 100 issues, in total 6000\n",
      "[60]: got 100 issues, in total 6100\n",
      "[61]: got 100 issues, in total 6200\n",
      "[62]: got 100 issues, in total 6300\n",
      "[63]: got 100 issues, in total 6400\n",
      "[64]: got 100 issues, in total 6500\n",
      "[65]: got 100 issues, in total 6600\n",
      "[66]: got 100 issues, in total 6700\n",
      "[67]: got 100 issues, in total 6800\n",
      "[68]: got 100 issues, in total 6900\n",
      "[69]: got 100 issues, in total 7000\n",
      "[70]: got 100 issues, in total 7100\n",
      "[71]: got 100 issues, in total 7200\n",
      "[72]: got 100 issues, in total 7300\n",
      "[73]: got 100 issues, in total 7400\n",
      "[74]: got 100 issues, in total 7500\n",
      "[75]: got 100 issues, in total 7600\n",
      "[76]: got 100 issues, in total 7700\n",
      "[77]: got 100 issues, in total 7800\n",
      "[78]: got 100 issues, in total 7900\n",
      "[79]: got 100 issues, in total 8000\n",
      "[80]: got 100 issues, in total 8100\n",
      "[81]: got 100 issues, in total 8200\n",
      "[82]: got 100 issues, in total 8300\n",
      "[83]: got 100 issues, in total 8400\n",
      "[84]: got 100 issues, in total 8500\n",
      "[85]: got 100 issues, in total 8600\n",
      "[86]: got 100 issues, in total 8700\n",
      "[87]: got 100 issues, in total 8800\n",
      "[88]: got 100 issues, in total 8900\n",
      "[89]: got 100 issues, in total 9000\n",
      "[90]: got 100 issues, in total 9100\n",
      "[91]: got 100 issues, in total 9200\n",
      "[92]: got 100 issues, in total 9300\n",
      "[93]: got 100 issues, in total 9400\n",
      "[94]: got 100 issues, in total 9500\n",
      "[95]: got 100 issues, in total 9600\n",
      "[96]: got 100 issues, in total 9700\n",
      "[97]: got 100 issues, in total 9800\n",
      "[98]: got 100 issues, in total 9900\n",
      "[99]: got 100 issues, in total 10000\n",
      "[100]: got 100 issues, in total 10100\n",
      "[101]: got 100 issues, in total 10200\n",
      "[102]: got 100 issues, in total 10300\n",
      "[103]: got 100 issues, in total 10400\n",
      "[104]: got 100 issues, in total 10500\n",
      "[105]: got 100 issues, in total 10600\n",
      "[106]: got 100 issues, in total 10700\n",
      "[107]: got 100 issues, in total 10800\n",
      "[108]: got 100 issues, in total 10900\n",
      "[109]: got 100 issues, in total 11000\n",
      "[110]: got 100 issues, in total 11100\n",
      "[111]: got 100 issues, in total 11200\n",
      "[112]: got 100 issues, in total 11300\n",
      "[113]: got 100 issues, in total 11400\n",
      "[114]: got 100 issues, in total 11500\n",
      "[115]: got 100 issues, in total 11600\n",
      "[116]: got 100 issues, in total 11700\n",
      "[117]: got 100 issues, in total 11800\n",
      "[118]: got 100 issues, in total 11900\n",
      "[119]: got 100 issues, in total 12000\n",
      "[120]: got 73 issues, in total 12073\n"
     ]
    }
   ],
   "source": [
    "allIssues = []\n",
    "i = 0\n",
    "while True:\n",
    "  nextPage = issues(page=i, state='closed', per_page=100)\n",
    "  if not nextPage:\n",
    "    break\n",
    "  allIssues.extend(nextPage)\n",
    "  print('[{page}]: got {num} issues, in total {numTotal}'.format(page=i, num=len(nextPage), numTotal = len(allIssues)))\n",
    "  i+=1"
   ]
  },
  {
   "cell_type": "code",
   "execution_count": 14,
   "id": "a04b2743-382f-481a-b34e-b54eff92b509",
   "metadata": {},
   "outputs": [],
   "source": [
    "issuesWithoutPrs = [i for i in allIssues if 'pull_request' not in i]"
   ]
  },
  {
   "cell_type": "code",
   "execution_count": 18,
   "id": "5f92d407-1530-4013-80a4-6c3b745acf00",
   "metadata": {},
   "outputs": [
    {
     "data": {
      "text/plain": [
       "4365"
      ]
     },
     "execution_count": 18,
     "metadata": {},
     "output_type": "execute_result"
    }
   ],
   "source": [
    "len(issuesWithoutPrs)"
   ]
  },
  {
   "cell_type": "code",
   "execution_count": 17,
   "id": "0cdc4ff3-fb71-43c4-be0d-d48d3a4410c0",
   "metadata": {},
   "outputs": [],
   "source": [
    "with open('data/labelled-issues/closed_issues.json', 'w') as f:\n",
    "  json.dump(issuesWithoutPrs, f, indent=2)"
   ]
  },
  {
   "cell_type": "markdown",
   "id": "d14c3201-f89e-4800-8140-a20a80c625cc",
   "metadata": {},
   "source": [
    "## Label them with a corresponding test and write as a JSON file"
   ]
  },
  {
   "cell_type": "code",
   "execution_count": 5,
   "id": "eee1e753-7336-48b4-a2ad-ea9e340804cf",
   "metadata": {},
   "outputs": [
    {
     "data": {
      "text/plain": [
       "4365"
      ]
     },
     "execution_count": 5,
     "metadata": {},
     "output_type": "execute_result"
    }
   ],
   "source": [
    "import json\n",
    "with open('data/labelled-issues/closed_issues.json', 'r') as f:\n",
    "  issuesWithoutPrs = json.load(f)\n",
    "len(issuesWithoutPrs)"
   ]
  },
  {
   "cell_type": "code",
   "execution_count": 6,
   "id": "1c51b596-b88a-431d-a0b5-f908d1a4dd5a",
   "metadata": {},
   "outputs": [
    {
     "data": {
      "text/plain": [
       "[1382, 535, 634]"
      ]
     },
     "execution_count": 6,
     "metadata": {},
     "output_type": "execute_result"
    }
   ],
   "source": [
    "def read_tests(tests_name):\n",
    "  with open('data/labelled-issues/{0}'.format(tests_name)) as f:\n",
    "    return [int(line) for line in f.readlines()]\n",
    "pos_tests = read_tests('pos_tests')\n",
    "neg_tests = read_tests('neg_tests')\n",
    "run_tests = read_tests('run_tests')\n",
    "[len(pos_tests), len(neg_tests), len(run_tests)]"
   ]
  },
  {
   "cell_type": "code",
   "execution_count": 7,
   "id": "d86912c3-4438-478e-a0d7-3ba47736a5cb",
   "metadata": {},
   "outputs": [],
   "source": [
    "def labelled(iss):\n",
    "  iid = iss['number']\n",
    "  labels = []\n",
    "  if iid in pos_tests:\n",
    "    labels.append('pos')\n",
    "  if iid in neg_tests:\n",
    "    labels.append('neg')\n",
    "  if iid in run_tests:\n",
    "    labels.append('run')\n",
    "  if len(labels) == 1:\n",
    "    return labels[0]\n",
    "\n",
    "labelled_issues = [{'issue': i, 'label': labelled(i)} for i in issuesWithoutPrs if labelled(i)]"
   ]
  },
  {
   "cell_type": "code",
   "execution_count": 9,
   "id": "19481c64-beea-4c7a-9666-781f378cc2af",
   "metadata": {},
   "outputs": [],
   "source": [
    "with open('data/labelled-issues/closed_labelled_issues.json', 'w') as f:\n",
    "  json.dump(labelled_issues, f, indent=2)"
   ]
  },
  {
   "cell_type": "markdown",
   "id": "3eb59af0-5770-4f4f-8c03-04a63530069f",
   "metadata": {},
   "source": [
    "## Prepare a CSV file for further exploration\n",
    "In that file, write down all the stuff that may be relevant to classify issues."
   ]
  },
  {
   "cell_type": "code",
   "execution_count": 19,
   "id": "2a86fb74-8b42-4a20-8f87-8d2601536f4e",
   "metadata": {},
   "outputs": [],
   "source": [
    "import json, \n",
    "with open('data/labelled-issues/closed_labelled_issues.json', 'r') as f:\n",
    "  labelled_issues = json.load(f)"
   ]
  },
  {
   "cell_type": "code",
   "execution_count": 59,
   "id": "cd5dd0c2-ad54-4ef2-8a96-ca2b109b77f6",
   "metadata": {},
   "outputs": [],
   "source": [
    "import mistune\n",
    "markdown = mistune.create_markdown(renderer=mistune.AstRenderer())\n",
    "def get_codeblocks(raw_body, filter_condition = None):\n",
    "  if not filter_condition:\n",
    "    predicate = lambda _: True\n",
    "  elif isinstance(filter_condition, str):\n",
    "    if filter_condition == 'empty':\n",
    "      predicate = lambda node: not node['info']\n",
    "    else:\n",
    "      predicate = lambda node: node['info'] and node['info'].lower() == filter_condition.lower()\n",
    "  else:\n",
    "    predicate = filter_condition\n",
    "  return [node for node in markdown(raw_body) if node['type'] == 'block_code' and predicate(node)]"
   ]
  },
  {
   "cell_type": "code",
   "execution_count": 57,
   "id": "792c91ae-03f2-4976-a141-527668a5cfa1",
   "metadata": {
    "collapsed": true,
    "jupyter": {
     "outputs_hidden": true
    },
    "tags": []
   },
   "outputs": [
    {
     "data": {
      "text/plain": [
       "[{'type': 'heading',\n",
       "  'children': [{'type': 'text', 'text': 'Compiler version'}],\n",
       "  'level': 2},\n",
       " {'type': 'paragraph',\n",
       "  'children': [{'type': 'text', 'text': 'Latest nightly (i.e. '},\n",
       "   {'type': 'codespan', 'text': 'dottyLatestNightlyBuild.get'},\n",
       "   {'type': 'text', 'text': ')'}]},\n",
       " {'type': 'heading',\n",
       "  'children': [{'type': 'text', 'text': 'Minimized code'}],\n",
       "  'level': 2},\n",
       " {'type': 'paragraph',\n",
       "  'children': [{'type': 'text',\n",
       "    'text': 'Create a simple mirror type object which summons a product mirror, add an extension method for it to be able to be applied to any type:'}]},\n",
       " {'type': 'block_code',\n",
       "  'text': 'object MirrorType {\\n  class Container[T]\\n\\n  inline def decode[T]: String =\\n    summonFrom {\\n      case ev: Mirror.ProductOf[T] =>\\n        s\"Product-${new Container[ev.MirroredElemLabels]}\" // This is the part that splices in the cast\\n      case m: Mirror.SumOf[T] =>\\n        \"Sum\"\\n    }\\n\\n  inline def generic[T]: MirrorType[T] = \\n    new MirrorType[T] {\\n      def mirrorType: String = decode[T]\\n    }\\n\\n  extension[T](inline value: T)\\n    inline def mirrorType = summonFrom {\\n      case mt: MirrorType[T] => mt.mirrorType\\n      case _ => \"mirror not found\"\\n    }\\n}\\n\\n',\n",
       "  'info': 'scala'},\n",
       " {'type': 'paragraph',\n",
       "  'children': [{'type': 'text',\n",
       "    'text': 'Then import the context and run it:'}]},\n",
       " {'type': 'block_code',\n",
       "  'text': 'object ContextUse {\\n  def main(args: Array[String]): Unit = {\\n    val ctx = new MyContext();\\n    import ctx._\\n    val tup = (\"foo\", 1)\\n    println( tup.mirrorType )\\n  }\\n}\\n',\n",
       "  'info': 'scala'},\n",
       " {'type': 'heading',\n",
       "  'children': [{'type': 'text', 'text': 'Output'}],\n",
       "  'level': 2},\n",
       " {'type': 'paragraph',\n",
       "  'children': [{'type': 'text', 'text': 'A class cast exception will occur'}]},\n",
       " {'type': 'block_code',\n",
       "  'text': '[error] (run-main-2) java.lang.ClassCastException: io.getquill.mytest.ContextUse$$anon$2 cannot be cast to scala.deriving.Mirror$Product\\n[error] java.lang.ClassCastException: io.getquill.mytest.ContextUse$$anon$2 cannot be cast to scala.deriving.Mirror$Product\\n[error]         at io.getquill.mytest.ContextUse$$anon$1.mirrorType(Use.scala:10)\\n[error]         at io.getquill.mytest.ContextUse$.main(Use.scala:10)\\n[error]         at io.getquill.mytest.ContextUse.main(Use.scala)\\n[error]         at sun.reflect.NativeMethodAccessorImpl.invoke0(Native Method)\\n[error]         at sun.reflect.NativeMethodAccessorImpl.invoke(NativeMethodAccessorImpl.java:62)\\n[error]         at sun.reflect.DelegatingMethodAccessorImpl.invoke(DelegatingMethodAccessorImpl.java:43)\\n[error]         at java.lang.reflect.Method.invoke(Method.java:498)\\n',\n",
       "  'info': None},\n",
       " {'type': 'paragraph',\n",
       "  'children': [{'type': 'text',\n",
       "    'text': 'This is probably because I can see that the following code is being spliced:'}]},\n",
       " {'type': 'block_code',\n",
       "  'text': '{\\n  val ev: Product {\\n    type MirroredType >: Tuple2[String, Int] <: Tuple2[String, Int]\\n    type MirroredMonoType >: Tuple2[String, Int] <: Tuple2[String, Int]\\n    type MirroredElemTypes >: Nothing <: Tuple\\n  } & Product {\\n    type MirroredMonoType >: Tuple2[String, Int] <: Tuple2[String, Int]\\n    type MirroredType >: Tuple2[String, Int] <: Tuple2[String, Int]\\n    type MirroredLabel >: \"Tuple2\" <: \"Tuple2\"\\n  } {\\n    type MirroredElemTypes >: *:[String, *:[Int, EmptyTuple]] <: *:[String, *:[Int, EmptyTuple]]\\n    type MirroredElemLabels >: *:[\"_1\", *:[\"_2\", EmptyTuple]] <: *:[\"_1\", *:[\"_2\", EmptyTuple]]\\n  } = {\\n    final class $anon() {\\n      type MirroredMonoType = Tuple2[String, Int]\\n    }\\n\\n    (new $anon(): Object)\\n  }.$asInstanceOf$[Product {      // WHAT??? You can\\'t cast this to a Product\\n    type MirroredType >: Tuple2[String, Int] <: Tuple2[String, Int]\\n    type MirroredMonoType >: Tuple2[String, Int] <: Tuple2[String, Int]\\n    type MirroredElemTypes >: Nothing <: Tuple\\n  } & Product {\\n    type MirroredMonoType >: Tuple2[String, Int] <: Tuple2[String, Int]\\n    type MirroredType >: Tuple2[String, Int] <: Tuple2[String, Int]\\n    type MirroredLabel >: \"Tuple2\" <: \"Tuple2\"\\n  } {\\n    type MirroredElemTypes >: *:[String, *:[Int, EmptyTuple]] <: *:[String, *:[Int, EmptyTuple]]\\n    type MirroredElemLabels >: *:[\"_1\", *:[\"_2\", EmptyTuple]] <: *:[\"_1\", *:[\"_2\", EmptyTuple]]\\n  }]\\n  _root_.scala.StringContext.apply(\"Product-\", \"\").s(new Container[MirroredElemLabels]())\\n}\\n',\n",
       "  'info': 'scala'},\n",
       " {'type': 'heading',\n",
       "  'children': [{'type': 'text', 'text': 'Expectation'}],\n",
       "  'level': 2},\n",
       " {'type': 'paragraph',\n",
       "  'children': [{'type': 'text',\n",
       "    'text': 'Code should compile and run correctly.'}]},\n",
       " {'type': 'heading',\n",
       "  'children': [{'type': 'text', 'text': 'Repository'}],\n",
       "  'level': 2},\n",
       " {'type': 'paragraph',\n",
       "  'children': [{'type': 'text',\n",
       "    'text': 'Code is available here:\\nhttps://github.com/deusaquilus/class_cast_issue'}]}]"
      ]
     },
     "execution_count": 57,
     "metadata": {},
     "output_type": "execute_result"
    }
   ],
   "source": [
    "markdown(labelled_issues[64]['issue']['body'])"
   ]
  },
  {
   "cell_type": "code",
   "execution_count": 62,
   "id": "3074413b-b7b9-47e9-89b4-8e8c3ff39176",
   "metadata": {
    "tags": []
   },
   "outputs": [],
   "source": [
    "header = [\n",
    "  'Issue Title',\n",
    "  'Test Type',\n",
    "  'Issue URL',\n",
    "  'Comments count',\n",
    "  'Scala codeblocks',\n",
    "  'Empty codeblocks',\n",
    "  'Total codeblocks',\n",
    "  'First code block',\n",
    "  'Second code block',\n",
    "  'Issue Body',\n",
    "]\n",
    "dataset = [header]\n",
    "for i in labelled_issues:\n",
    "  issue = i['issue']\n",
    "  body = issue['body']\n",
    "  \n",
    "  codeblocks = get_codeblocks(body)\n",
    "  total_codeblocks = len(codeblocks)\n",
    "  if total_codeblocks == 2:\n",
    "    entry = [\n",
    "      issue['title'],\n",
    "      i['label'],\n",
    "      issue['html_url'],\n",
    "      issue['comments'],\n",
    "      len(get_codeblocks(body, 'scala')),\n",
    "      len(get_codeblocks(body, 'empty')),\n",
    "      total_codeblocks,\n",
    "      codeblocks[0]['text'],\n",
    "      codeblocks[1]['text'],\n",
    "      body,\n",
    "    ]\n",
    "  \n",
    "    dataset.append(entry)"
   ]
  },
  {
   "cell_type": "code",
   "execution_count": 63,
   "id": "5fff9834-85bc-448b-839a-d8f5c09d787c",
   "metadata": {},
   "outputs": [],
   "source": [
    "with open('data/labelled-issues/issues.csv', 'w') as csvfile:\n",
    "  w = csv.writer(csvfile)\n",
    "  for row in dataset:\n",
    "    w.writerow(row)"
   ]
  },
  {
   "cell_type": "code",
   "execution_count": null,
   "id": "505349f6-1cc4-48e7-94f2-d1086cd6aa4d",
   "metadata": {},
   "outputs": [],
   "source": []
  }
 ],
 "metadata": {
  "kernelspec": {
   "display_name": "Python 3",
   "language": "python",
   "name": "python3"
  },
  "language_info": {
   "codemirror_mode": {
    "name": "ipython",
    "version": 3
   },
   "file_extension": ".py",
   "mimetype": "text/x-python",
   "name": "python",
   "nbconvert_exporter": "python",
   "pygments_lexer": "ipython3",
   "version": "3.8.8"
  }
 },
 "nbformat": 4,
 "nbformat_minor": 5
}
