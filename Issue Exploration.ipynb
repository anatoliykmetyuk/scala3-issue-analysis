{
 "cells": [
  {
   "cell_type": "code",
   "execution_count": 1,
   "id": "08ff1467-2fa9-429a-866d-4fb285c86897",
   "metadata": {},
   "outputs": [],
   "source": [
    "import json, mistune, statistics"
   ]
  },
  {
   "cell_type": "code",
   "execution_count": 2,
   "id": "ef2ee0d2-c67e-409b-b82f-a33ec2917857",
   "metadata": {},
   "outputs": [],
   "source": [
    "with open('data/labelled-issues/closed_issues.json') as f:\n",
    "  data = json.load(f)"
   ]
  },
  {
   "cell_type": "code",
   "execution_count": 3,
   "id": "609748de-22c6-48d5-b55a-09a3ff1362a6",
   "metadata": {},
   "outputs": [],
   "source": [
    "markdown = mistune.create_markdown(renderer=mistune.AstRenderer())"
   ]
  },
  {
   "cell_type": "code",
   "execution_count": 4,
   "id": "f75941a0-6b66-47a2-99b3-f40731bc59fc",
   "metadata": {},
   "outputs": [
    {
     "name": "stdout",
     "output_type": "stream",
     "text": [
      "\n",
      "  Average number of Scala blocks per issue: 1.143184421534937\n",
      "  Average number of generic blocks per issue: 0.4361970217640321\n",
      "\n"
     ]
    }
   ],
   "source": [
    "def count_codeblocks(issue, code_type):\n",
    "  return len(\n",
    "    list(\n",
    "      filter(\n",
    "        lambda node: node['type'] == 'block_code' and (\n",
    "          (not code_type and not node['info']) or\n",
    "          (code_type and node['info'] and node['info'].lower() == code_type)\n",
    "        ),\n",
    "        markdown(issue['body'])\n",
    "      )\n",
    "    )\n",
    "  )\n",
    "print('''\n",
    "  Average number of Scala blocks per issue: {scala_blocks}\n",
    "  Average number of generic blocks per issue: {generic_blocks}\n",
    "'''.format(\n",
    "  scala_blocks = statistics.mean([count_codeblocks(iss, 'scala') for iss in data[:]]),\n",
    "  generic_blocks = statistics.mean([count_codeblocks(iss, None) for iss in data[:]])\n",
    "))"
   ]
  },
  {
   "cell_type": "code",
   "execution_count": 23,
   "id": "81aed804-bd06-4d2d-a959-8e3cf4accb11",
   "metadata": {},
   "outputs": [],
   "source": [
    "def count_codeblocks(raw_body, filter_condition = None):\n",
    "  if not filter_condition:\n",
    "    predicate = lambda _: True\n",
    "  elif isinstance(filter_condition, str):\n",
    "    if filter_condition == 'empty':\n",
    "      predicate = lambda node: not node['info']\n",
    "    else:\n",
    "      predicate = lambda node: node['info'] and node['info'] == filter_condition\n",
    "  else:\n",
    "    predicate = filter_condition\n",
    "  print(predicate)\n",
    "  return len([node for node in markdown(raw_body) if predicate(node)])"
   ]
  },
  {
   "cell_type": "code",
   "execution_count": 24,
   "id": "ed104f93-426c-4bcd-8aa3-386b0840afab",
   "metadata": {},
   "outputs": [
    {
     "name": "stdout",
     "output_type": "stream",
     "text": [
      "<function count_codeblocks.<locals>.<lambda> at 0x7f94da3e75e0>\n"
     ]
    },
    {
     "data": {
      "text/plain": [
       "14"
      ]
     },
     "execution_count": 24,
     "metadata": {},
     "output_type": "execute_result"
    }
   ],
   "source": [
    "count_codeblocks(data[3]['body'])"
   ]
  },
  {
   "cell_type": "code",
   "execution_count": 19,
   "id": "69b146e7-a3e7-455c-82d9-25803e7c0087",
   "metadata": {},
   "outputs": [
    {
     "data": {
      "text/plain": [
       "'https://github.com/lampepfl/dotty/issues/12830'"
      ]
     },
     "execution_count": 19,
     "metadata": {},
     "output_type": "execute_result"
    }
   ],
   "source": [
    "data[3]['html_url']"
   ]
  },
  {
   "cell_type": "code",
   "execution_count": 13,
   "id": "d28fae5e-8256-4c45-b4c5-83d5e0776e31",
   "metadata": {
    "tags": []
   },
   "outputs": [
    {
     "data": {
      "text/plain": [
       "[{'type': 'paragraph',\n",
       "  'children': [{'type': 'text',\n",
       "    'text': 'Related: https://github.com/lampepfl/dotty/issues/3969'}]},\n",
       " {'type': 'paragraph',\n",
       "  'children': [{'type': 'text', 'text': 'The '},\n",
       "   {'type': 'codespan', 'text': 'DottyTypeStealer'},\n",
       "   {'type': 'text',\n",
       "    'text': \" explained in the document https://dotty.epfl.ch/docs/contributing/workflow.html#inspecting-trees-with-type-stealer doesn't work from \"},\n",
       "   {'type': 'codespan', 'text': 'console'},\n",
       "   {'type': 'text', 'text': '.'}]},\n",
       " {'type': 'heading',\n",
       "  'children': [{'type': 'text', 'text': 'Compiler version'}],\n",
       "  'level': 2},\n",
       " {'type': 'block_code',\n",
       "  'text': '$ sbt\\nsbt:scala3> scalac -version\\n[info] running (fork) dotty.tools.dotc.Main -classpath /Users/tanishiking/Library/Caches/Coursier/v1/https/repo1.maven.org/maven2/org/scala-lang/scala-library/2.13.6/scala-library-2.13.6.jar:/Users/tanishiking/src/github.com/tanishiking/dotty/library/../out/bootstrap/scala3-library-bootstrapped/scala-3.0.2-RC1-bin-SNAPSHOT-nonbootstrapped/scala3-library_3-3.0.2-RC1-bin-SNAPSHOT.jar -version\\nScala compiler version 3.0.2-RC1-bin-SNAPSHOT-nonbootstrapped-git-a880769 -- Copyright 2002-2021, LAMP/EPFL\\n[success] Total time: 1 s, completed Jun 15, 2021, 10:51:09 PM\\n',\n",
       "  'info': 'bash'},\n",
       " {'type': 'heading',\n",
       "  'children': [{'type': 'text', 'text': 'Minimized code'}],\n",
       "  'level': 2},\n",
       " {'type': 'block_code',\n",
       "  'text': 'sbt:scala3> scala3-compiler-bootstrapped/Test/console\\n\\nscala> import dotty.tools.DottyTypeStealer.*; import dotty.tools.dotc.core.*; import Contexts.*,Types.*\\n\\nscala> val s = stealType(\"class O { type X }\", \"O#X\")\\njava.lang.NullPointerException\\n  at java.base/java.io.File.<init>(File.java:278)\\n  at dotty.tools.vulpix.TestConfiguration$.mkClasspath$$anonfun$1(TestConfiguration.scala:54)\\n  at scala.collection.immutable.List.map(List.scala:246)\\n  at dotty.tools.vulpix.TestConfiguration$.mkClasspath(TestConfiguration.scala:56)\\n  at dotty.tools.vulpix.TestConfiguration$.<clinit>(TestConfiguration.scala:26)\\n  at dotty.tools.DottyTest.initializeCtx(DottyTest.scala:44)\\n  at dotty.tools.DottyTest.initializeCtx$(DottyTest.scala:20)\\n  at dotty.tools.DottyTypeStealer$.initializeCtx(DottyTypeStealer.scala:18)\\n  at dotty.tools.DottyTest.initialCtx(DottyTest.scala:30)\\n  at dotty.tools.DottyTest.initialCtx$(DottyTest.scala:20)\\n  at dotty.tools.DottyTypeStealer$.initialCtx(DottyTypeStealer.scala:18)\\n  at dotty.tools.DottyTest.$init$(DottyTest.scala:24)\\n  at dotty.tools.DottyTypeStealer$.<clinit>(DottyTypeStealer.scala:18)\\n  at repl$.rs$line$2$.<clinit>(rs$line$2:1)\\n  at repl$.rs$line$2.s(rs$line$2)\\n  at java.base/jdk.internal.reflect.NativeMethodAccessorImpl.invoke0(Native Method)\\n  at java.base/jdk.internal.reflect.NativeMethodAccessorImpl.invoke(NativeMethodAccessorImpl.java:62)\\n  at java.base/jdk.internal.reflect.DelegatingMethodAccessorImpl.invoke(DelegatingMethodAccessorImpl.java:43)\\n  at java.base/java.lang.reflect.Method.invoke(Method.java:566)\\n  at dotty.tools.repl.Rendering.$anonfun$3(Rendering.scala:115)\\n  at scala.Option.map(Option.scala:242)\\n  at dotty.tools.repl.Rendering.valueOf(Rendering.scala:115)\\n  at dotty.tools.repl.Rendering.renderVal(Rendering.scala:152)\\n  at dotty.tools.repl.ReplDriver.$anonfun$13(ReplDriver.scala:323)\\n  at scala.collection.immutable.List.flatMap(List.scala:293)\\n  at scala.collection.immutable.List.flatMap(List.scala:79)\\n  at dotty.tools.repl.ReplDriver.extractAndFormatMembers$1(ReplDriver.scala:323)\\n  at dotty.tools.repl.ReplDriver.renderDefinitions$$anonfun$2(ReplDriver.scala:346)\\n  at scala.Option.map(Option.scala:242)\\n  at dotty.tools.repl.ReplDriver.renderDefinitions(ReplDriver.scala:349)\\n  at dotty.tools.repl.ReplDriver.compile$$anonfun$2(ReplDriver.scala:268)\\n  at scala.util.Either.fold(Either.scala:189)\\n  at dotty.tools.repl.ReplDriver.compile(ReplDriver.scala:285)\\n  at dotty.tools.repl.ReplDriver.interpret(ReplDriver.scala:212)\\n  at dotty.tools.repl.ReplDriver.loop$1(ReplDriver.scala:146)\\n  at dotty.tools.repl.ReplDriver.runUntilQuit$$anonfun$1(ReplDriver.scala:149)\\n  at dotty.tools.repl.ReplDriver.withRedirectedOutput(ReplDriver.scala:168)\\n  at dotty.tools.repl.ReplDriver.runUntilQuit(ReplDriver.scala:149)\\n  at xsbt.ConsoleInterface.run(ConsoleInterface.java:52)\\n  at java.base/jdk.internal.reflect.NativeMethodAccessorImpl.invoke0(Native Method)\\n  at java.base/jdk.internal.reflect.NativeMethodAccessorImpl.invoke(NativeMethodAccessorImpl.java:62)\\n  at java.base/jdk.internal.reflect.DelegatingMethodAccessorImpl.invoke(DelegatingMethodAccessorImpl.java:43)\\n  at java.base/java.lang.reflect.Method.invoke(Method.java:566)\\n  at sbt.internal.inc.AnalyzingCompiler.invoke(AnalyzingCompiler.scala:329)\\n  at sbt.internal.inc.AnalyzingCompiler.console(AnalyzingCompiler.scala:233)\\n  at sbt.Console.console0$1(Console.scala:64)\\n  at sbt.Console.$anonfun$apply$5(Console.scala:74)\\n  at scala.runtime.java8.JFunction0$mcV$sp.apply(JFunction0$mcV$sp.java:23)\\n  at sbt.util.InterfaceUtil$$anon$1.get(InterfaceUtil.scala:17)\\n  at sbt.TrapExit$App.run(TrapExit.scala:258)\\n  at java.base/java.lang.Thread.run(Thread.java:834)\\n',\n",
       "  'info': 'sh'},\n",
       " {'type': 'list',\n",
       "  'children': [{'type': 'list_item',\n",
       "    'children': [{'type': 'block_text',\n",
       "      'children': [{'type': 'text', 'text': 'This error happens because, in '},\n",
       "       {'type': 'link',\n",
       "        'link': 'https://github.com/lampepfl/dotty/blob/a880769d6bc60a95cf6162b88fe4b9cfefab13b2/compiler/test/dotty/tools/vulpix/TestConfiguration.scala#L24-L27',\n",
       "        'children': [{'type': 'text', 'text': 'TestConfguration'}],\n",
       "        'title': None},\n",
       "       {'type': 'text', 'text': ' that is called from '},\n",
       "       {'type': 'codespan', 'text': 'DottyTest'},\n",
       "       {'type': 'text', 'text': ', '},\n",
       "       {'type': 'codespan', 'text': 'Properties.scalaLibrary'},\n",
       "       {'type': 'text', 'text': ' and '},\n",
       "       {'type': 'codespan', 'text': 'Properties.dottyLibrary'},\n",
       "       {'type': 'text', 'text': ' (which are defined '},\n",
       "       {'type': 'link',\n",
       "        'link': 'https://github.com/lampepfl/dotty/blob/a880769d6bc60a95cf6162b88fe4b9cfefab13b2/compiler/test/dotty/Properties.scala#L49',\n",
       "        'children': [{'type': 'text', 'text': 'here'}],\n",
       "        'title': None},\n",
       "       {'type': 'text', 'text': ' are null in console.'}]}],\n",
       "    'level': 1},\n",
       "   {'type': 'list_item',\n",
       "    'children': [{'type': 'block_text',\n",
       "      'children': [{'type': 'text',\n",
       "        'text': 'They are null in console, because those javaOptions are defined in '},\n",
       "       {'type': 'link',\n",
       "        'link': 'https://github.com/lampepfl/dotty/blob/a880769d6bc60a95cf6162b88fe4b9cfefab13b2/project/Build.scala#L544-L555',\n",
       "        'children': [{'type': 'text', 'text': 'commonDottyCompilerSettings'}],\n",
       "        'title': None},\n",
       "       {'type': 'text', 'text': ', but '},\n",
       "       {'type': 'codespan', 'text': 'console'},\n",
       "       {'type': 'text',\n",
       "        'text': \" doesn't fork. Therefore we can't receive those javaOptions from console.\"}]}],\n",
       "    'level': 1}],\n",
       "  'ordered': False,\n",
       "  'level': 1},\n",
       " {'type': 'heading',\n",
       "  'children': [{'type': 'text', 'text': 'Run DottyTypeStealer from run'}],\n",
       "  'level': 2},\n",
       " {'type': 'paragraph',\n",
       "  'children': [{'type': 'text', 'text': 'Since '},\n",
       "   {'type': 'codespan', 'text': 'DottyTypeStealer'},\n",
       "   {'type': 'text', 'text': ' works perfectly in '},\n",
       "   {'type': 'codespan', 'text': 'run'},\n",
       "   {'type': 'text', 'text': ', with the following diff'}]},\n",
       " {'type': 'block_code',\n",
       "  'text': 'diff --git a/compiler/test/dotty/tools/DottyTypeStealer.scala b/compiler/test/dotty/tools/DottyTypeStealer.scala\\nindex 0a80205fba..e613a576f0 100644\\n--- a/compiler/test/dotty/tools/DottyTypeStealer.scala\\n+++ b/compiler/test/dotty/tools/DottyTypeStealer.scala\\n@@ -7,6 +7,13 @@ import dotc.core.Contexts.Context\\n import dotc.core.Decorators._\\n import dotc.core.Types.Type\\n\\n+@main def steal() = {\\n+  val s = DottyTypeStealer.stealType(\"class O { type X }\", \"O#X\")\\n+  implicit val ctx: Context = s._1\\n+  val t = s._2(0)\\n+  println(t)\\n+}\\n+\\n object DottyTypeStealer extends DottyTest {\\n   def stealType(source: String, typeStrings: String*): (Context, List[Type]) = {\\n     val dummyName = \"x_x_x\"\\n',\n",
       "  'info': 'diff'},\n",
       " {'type': 'block_code',\n",
       "  'text': 'sbt:scala3> scala3-compiler-bootstrapped/Test/runMain dotty.tools.steal\\n[info] running (fork) dotty.tools.steal \\nTypeRef(TypeRef(ThisType(TypeRef(NoPrefix,module class <empty>)),class O),type X)\\n[success] Total time: 3 s, completed Jun 15, 2021, 11:02:02 PM\\n',\n",
       "  'info': 'sh'},\n",
       " {'type': 'paragraph', 'children': [{'type': 'text', 'text': 'it works.'}]},\n",
       " {'type': 'heading',\n",
       "  'children': [{'type': 'text', 'text': 'Proposal'}],\n",
       "  'level': 2},\n",
       " {'type': 'paragraph',\n",
       "  'children': [{'type': 'text',\n",
       "    'text': 'Update document https://dotty.epfl.ch/docs/contributing/workflow.html#inspecting-trees-with-type-stealer to use '},\n",
       "   {'type': 'codespan', 'text': 'DottyTypeStealer'},\n",
       "   {'type': 'text', 'text': ' from '},\n",
       "   {'type': 'codespan', 'text': 'run'},\n",
       "   {'type': 'text', 'text': ' (like the above diff) instead of '},\n",
       "   {'type': 'codespan', 'text': 'console'},\n",
       "   {'type': 'text', 'text': '.'}]}]"
      ]
     },
     "execution_count": 13,
     "metadata": {},
     "output_type": "execute_result"
    }
   ],
   "source": [
    "markdown(data[3]['body'])"
   ]
  },
  {
   "cell_type": "code",
   "execution_count": 18,
   "id": "1c8d5459-8b3e-46ab-b1de-69208d6103fb",
   "metadata": {},
   "outputs": [],
   "source": [
    "with open('external.json', 'w') as f:\n",
    "  json.dump(list(filter(lambda i: i['author_association'] == 'NONE', data)), f, indent=2)"
   ]
  }
 ],
 "metadata": {
  "kernelspec": {
   "display_name": "Python 3",
   "language": "python",
   "name": "python3"
  },
  "language_info": {
   "codemirror_mode": {
    "name": "ipython",
    "version": 3
   },
   "file_extension": ".py",
   "mimetype": "text/x-python",
   "name": "python",
   "nbconvert_exporter": "python",
   "pygments_lexer": "ipython3",
   "version": "3.8.8"
  }
 },
 "nbformat": 4,
 "nbformat_minor": 5
}
